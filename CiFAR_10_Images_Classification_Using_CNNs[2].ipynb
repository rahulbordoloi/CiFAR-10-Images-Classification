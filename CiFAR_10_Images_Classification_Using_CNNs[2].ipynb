{
  "nbformat": 4,
  "nbformat_minor": 0,
  "metadata": {
    "colab": {
      "name": "CiFAR-10 Images Classification Using CNNs[2].ipynb",
      "provenance": [],
      "collapsed_sections": []
    },
    "kernelspec": {
      "name": "python3",
      "display_name": "Python 3"
    },
    "accelerator": "GPU"
  },
  "cells": [
    {
      "cell_type": "markdown",
      "metadata": {
        "id": "S2iJHTivycWN",
        "colab_type": "text"
      },
      "source": [
        "# Part 1 Link-\n",
        "https://colab.research.google.com/drive/18PJ6fFtpDoMmFEiNfM5JGdvCFxnDyvvP "
      ]
    },
    {
      "cell_type": "markdown",
      "metadata": {
        "id": "QmctRPkI7T7g",
        "colab_type": "text"
      },
      "source": [
        "# IMPROVING THE MODEL WITH DATA AUGMENTATION"
      ]
    },
    {
      "cell_type": "markdown",
      "metadata": {
        "id": "Gu664-qM7T7h",
        "colab_type": "text"
      },
      "source": [
        "- Image Augmentation is the process of artificially increasing the variations of the images in the datasets by flipping, enlarging, rotating the original images. \n",
        "- Augmentations also include shifting and changing the brightness of the images."
      ]
    },
    {
      "cell_type": "markdown",
      "metadata": {
        "id": "ROZkleLA7T7h",
        "colab_type": "text"
      },
      "source": [
        "# DATA AUGMENTATION FOR THE CIFAR-10 DATASET"
      ]
    },
    {
      "cell_type": "code",
      "metadata": {
        "id": "I6_gjH_N7T7h",
        "colab_type": "code",
        "colab": {}
      },
      "source": [
        "import keras\n",
        "from keras.datasets import cifar10\n",
        "(X_train, y_train), (X_test, y_test) = cifar10.load_data()"
      ],
      "execution_count": 0,
      "outputs": []
    },
    {
      "cell_type": "code",
      "metadata": {
        "id": "zLFKFvUF7T7k",
        "colab_type": "code",
        "colab": {}
      },
      "source": [
        "X_train = X_train.astype('float32')\n",
        "X_test = X_test.astype('float32')"
      ],
      "execution_count": 0,
      "outputs": []
    },
    {
      "cell_type": "code",
      "metadata": {
        "id": "WdaepfYA7T7o",
        "colab_type": "code",
        "colab": {}
      },
      "source": [
        "X_train.shape"
      ],
      "execution_count": 0,
      "outputs": []
    },
    {
      "cell_type": "code",
      "metadata": {
        "id": "EFAMCzZu7T7v",
        "colab_type": "code",
        "colab": {}
      },
      "source": [
        "n = 8 \n",
        "X_train_sample = X_train[:n]"
      ],
      "execution_count": 0,
      "outputs": []
    },
    {
      "cell_type": "code",
      "metadata": {
        "id": "2OaNFEV97T7z",
        "colab_type": "code",
        "colab": {}
      },
      "source": [
        "X_train_sample.shape"
      ],
      "execution_count": 0,
      "outputs": []
    },
    {
      "cell_type": "code",
      "metadata": {
        "id": "Esgd3Q9_7T73",
        "colab_type": "code",
        "colab": {}
      },
      "source": [
        "from keras.preprocessing.image import ImageDataGenerator\n",
        "\n",
        "# dataget_train = ImageDataGenerator(rotation_range = 90)\n",
        "# dataget_train = ImageDataGenerator(vertical_flip=True)\n",
        "# dataget_train = ImageDataGenerator(height_shift_range=0.5)\n",
        "dataget_train = ImageDataGenerator(brightness_range=(1,3))\n",
        "dataget_train.fit(X_train_sample)"
      ],
      "execution_count": 0,
      "outputs": []
    },
    {
      "cell_type": "code",
      "metadata": {
        "id": "kRdiQNWC7T77",
        "colab_type": "code",
        "colab": {}
      },
      "source": [
        "from scipy.misc import toimage\n",
        "\n",
        "fig = plt.figure(figsize = (20,2))\n",
        "for x_batch in dataget_train.flow(X_train_sample, batch_size = n):\n",
        "     for i in range(0,n):\n",
        "            ax = fig.add_subplot(1, n, i+1)\n",
        "            ax.imshow(toimage(x_batch[i]))\n",
        "     fig.suptitle('Augmented images (rotated 90 degrees)')\n",
        "     plt.show()\n",
        "     break;"
      ],
      "execution_count": 0,
      "outputs": []
    },
    {
      "cell_type": "markdown",
      "metadata": {
        "id": "bbOjwiOu7T78",
        "colab_type": "text"
      },
      "source": [
        "# MODEL TRAINING USING AUGEMENTED DATASET"
      ]
    },
    {
      "cell_type": "code",
      "metadata": {
        "id": "4KkbpdCG7T78",
        "colab_type": "code",
        "colab": {}
      },
      "source": [
        "from keras.preprocessing.image import ImageDataGenerator\n",
        "\n",
        "datagen = ImageDataGenerator(\n",
        "                            rotation_range = 90,\n",
        "                            width_shift_range = 0.1,\n",
        "                            horizontal_flip = True,\n",
        "                            vertical_flip = True\n",
        "                             )"
      ],
      "execution_count": 0,
      "outputs": []
    },
    {
      "cell_type": "code",
      "metadata": {
        "id": "1qcF2hcL7T8A",
        "colab_type": "code",
        "colab": {}
      },
      "source": [
        "datagen.fit(X_train)"
      ],
      "execution_count": 0,
      "outputs": []
    },
    {
      "cell_type": "code",
      "metadata": {
        "id": "zXEE1bit7T8C",
        "colab_type": "code",
        "colab": {}
      },
      "source": [
        "cnn_model.fit_generator(datagen.flow(X_train, y_train, batch_size = 32), epochs = 2)"
      ],
      "execution_count": 0,
      "outputs": []
    },
    {
      "cell_type": "code",
      "metadata": {
        "id": "-r5AxPTd7T8G",
        "colab_type": "code",
        "colab": {}
      },
      "source": [
        "score = cnn_model.evaluate(X_test, y_test)\n",
        "print('Test accuracy', score[1])"
      ],
      "execution_count": 0,
      "outputs": []
    },
    {
      "cell_type": "code",
      "metadata": {
        "id": "R5-eg3rC7T8I",
        "colab_type": "code",
        "cellView": "both",
        "colab": {}
      },
      "source": [
        "# save the model\n",
        "directory = os.path.join(os.getcwd(), 'saved_models')\n",
        "\n",
        "if not os.path.isdir(directory):\n",
        "    os.makedirs(directory)\n",
        "model_path = os.path.join(directory, 'keras_cifar10_trained_model_Augmentation.h5')\n",
        "cnn_model.save(model_path)"
      ],
      "execution_count": 0,
      "outputs": []
    },
    {
      "cell_type": "markdown",
      "metadata": {
        "id": "8Y6A5VdLx5Ov",
        "colab_type": "text"
      },
      "source": [
        "# End"
      ]
    }
  ]
}